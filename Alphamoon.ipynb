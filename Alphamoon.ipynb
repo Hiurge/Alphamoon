{
 "cells": [
  {
   "cell_type": "code",
   "execution_count": 3,
   "metadata": {},
   "outputs": [
    {
     "name": "stdout",
     "output_type": "stream",
     "text": [
      "(30134, 3136) (30134, 1)\n",
      "Shape of my_X before empty column del:  3136\n",
      "After:  2601\n"
     ]
    }
   ],
   "source": [
    "import pickle\n",
    "import pandas as pd\n",
    "import numpy as np\n",
    "\n",
    "\n",
    "with open('train.pkl', 'rb') as f:\n",
    "    data = pickle.load(f)\n",
    "    if len(data) < 10:\n",
    "        print(data[0].shape, data[1].shape)\n",
    "            \n",
    "X_raw = pd.DataFrame(data=data[0][:,:])\n",
    "y_raw = pd.DataFrame(data=data[1][:,:])\n",
    "\n",
    "X_temp = X_raw.iloc[:,:]\n",
    "\n",
    "              \n",
    "def delEmptyCols(my_X):\n",
    "\n",
    "    def getIndexes(my_X):\n",
    "        print(\"Shape of my_X before empty column del: \",my_X.shape[1])\n",
    "        nrs = list(range(0,my_X.shape[1]))\n",
    "        return ([i for i in nrs if len([x for x in my_X.iloc[:,i] if x == 1]) == 0])\n",
    "    \n",
    "    for empty_idx in getIndexes(my_X):\n",
    "        del my_X[empty_idx]\n",
    "\n",
    "    print(\"After: \",my_X.shape[1])\n",
    "              \n",
    "\n",
    "delEmptyCols(X_temp)"
   ]
  },
  {
   "cell_type": "code",
   "execution_count": null,
   "metadata": {},
   "outputs": [],
   "source": []
  },
  {
   "cell_type": "code",
   "execution_count": null,
   "metadata": {},
   "outputs": [],
   "source": []
  },
  {
   "cell_type": "code",
   "execution_count": null,
   "metadata": {},
   "outputs": [],
   "source": []
  },
  {
   "cell_type": "code",
   "execution_count": null,
   "metadata": {},
   "outputs": [],
   "source": []
  },
  {
   "cell_type": "code",
   "execution_count": null,
   "metadata": {},
   "outputs": [],
   "source": []
  },
  {
   "cell_type": "code",
   "execution_count": null,
   "metadata": {},
   "outputs": [],
   "source": []
  },
  {
   "cell_type": "code",
   "execution_count": null,
   "metadata": {},
   "outputs": [],
   "source": [
    "################################################################"
   ]
  },
  {
   "cell_type": "code",
   "execution_count": 58,
   "metadata": {},
   "outputs": [
    {
     "data": {
      "text/plain": [
       "196"
      ]
     },
     "execution_count": 58,
     "metadata": {},
     "output_type": "execute_result"
    }
   ],
   "source": [
    "\n",
    "nrs = list(range(0,len(X_raw[:500])))\n",
    "\n",
    "empty_cols = []\n",
    "for i in nrs: \n",
    "    xd = [x for x in X_raw.iloc[:,i] if x == 1] \n",
    "    if len(xd) == 0:\n",
    "        empty_cols.append(i)\n",
    "len(empty_cols)"
   ]
  },
  {
   "cell_type": "code",
   "execution_count": 71,
   "metadata": {},
   "outputs": [
    {
     "data": {
      "text/plain": [
       "535"
      ]
     },
     "execution_count": 71,
     "metadata": {},
     "output_type": "execute_result"
    }
   ],
   "source": [
    "my_file = X_raw\n",
    "nrs = list(range(0,my_file.shape[1]))\n",
    "empty_cols = ([i for i in nrs if len([x for x in my_file.iloc[:,i] if x == 1]) == 0])\n",
    "len(empty_cols)"
   ]
  },
  {
   "cell_type": "code",
   "execution_count": 103,
   "metadata": {},
   "outputs": [
    {
     "name": "stdout",
     "output_type": "stream",
     "text": [
      "0    30110\n",
      "1       24\n",
      "Name: 171, dtype: int64\n"
     ]
    }
   ],
   "source": [
    "print(List1.value_counts())"
   ]
  },
  {
   "cell_type": "code",
   "execution_count": null,
   "metadata": {},
   "outputs": [],
   "source": []
  },
  {
   "cell_type": "code",
   "execution_count": null,
   "metadata": {},
   "outputs": [],
   "source": []
  }
 ],
 "metadata": {
  "kernelspec": {
   "display_name": "Python 3",
   "language": "python",
   "name": "python3"
  },
  "language_info": {
   "codemirror_mode": {
    "name": "ipython",
    "version": 3
   },
   "file_extension": ".py",
   "mimetype": "text/x-python",
   "name": "python",
   "nbconvert_exporter": "python",
   "pygments_lexer": "ipython3",
   "version": "3.6.4"
  }
 },
 "nbformat": 4,
 "nbformat_minor": 2
}
